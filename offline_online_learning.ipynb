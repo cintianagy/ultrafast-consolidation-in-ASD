{
 "cells": [
  {
   "cell_type": "markdown",
   "id": "aa9fe2e1",
   "metadata": {},
   "source": [
    "# OFFLINE/ONLINE LEARNING"
   ]
  },
  {
   "cell_type": "markdown",
   "id": "1c955ecf",
   "metadata": {},
   "source": [
    "# import packages"
   ]
  },
  {
   "cell_type": "code",
   "execution_count": 1,
   "id": "6a13080a",
   "metadata": {},
   "outputs": [],
   "source": [
    "import pandas as pd\n",
    "import numpy as np\n",
    "import seaborn as sns\n",
    "import matplotlib as plt\n",
    "import copy"
   ]
  },
  {
   "cell_type": "markdown",
   "id": "280609de",
   "metadata": {},
   "source": [
    "#### define parameters of the study"
   ]
  },
  {
   "cell_type": "code",
   "execution_count": 2,
   "id": "2ff2975a",
   "metadata": {},
   "outputs": [],
   "source": [
    "study_number = 3 # choose from 1, 2, 3"
   ]
  },
  {
   "cell_type": "markdown",
   "id": "3ef7944f",
   "metadata": {},
   "source": [
    "# read data files"
   ]
  },
  {
   "cell_type": "code",
   "execution_count": 3,
   "id": "65b637aa",
   "metadata": {},
   "outputs": [
    {
     "name": "stderr",
     "output_type": "stream",
     "text": [
      "C:\\Users\\Cinti\\AppData\\Local\\Temp\\ipykernel_7212\\3630403981.py:1: DtypeWarning: Columns (2,3,7,11,15,17,18) have mixed types. Specify dtype option on import or set low_memory=False.\n",
      "  df_raw = pd.read_csv('C:/Users/Cinti/Documents/Kutatás/AUTI/_to_publish/raw_data/raw_study_3.csv')\n"
     ]
    }
   ],
   "source": [
    "df_raw = pd.read_csv('raw_data/raw_study_3.csv')"
   ]
  },
  {
   "cell_type": "markdown",
   "id": "8112e773",
   "metadata": {},
   "source": [
    "# preprocessing"
   ]
  },
  {
   "cell_type": "markdown",
   "id": "733205b4",
   "metadata": {},
   "source": [
    "#### filter unnecessary columns"
   ]
  },
  {
   "cell_type": "code",
   "execution_count": 4,
   "id": "1d3593c6",
   "metadata": {},
   "outputs": [],
   "source": [
    "if study_number == 1 or study_number == 2:\n",
    "    df = df_raw.loc[:, ['Group', 'Subject', 'Block', 'Epoch', 'finalRT', 'ACC', 'TrialType', 'triplet_type', 'trial_number']]\n",
    "elif study_number == 3:\n",
    "    df = df_raw.loc[:, ['Subject', 'Block', 'Epoch', 'finalRT', 'ACC', 'triplet_type', 'trial_number', 'is_practice', 'first_response']]"
   ]
  },
  {
   "cell_type": "markdown",
   "id": "c5381ac6",
   "metadata": {},
   "source": [
    "#### drop participants"
   ]
  },
  {
   "cell_type": "code",
   "execution_count": 10,
   "id": "777f8b4e",
   "metadata": {},
   "outputs": [],
   "source": [
    "if study_number == 1:\n",
    "    participants_to_drop = [4, 16, 20, 21, 22, 23, 24, 25, 108]\n",
    "elif study_number == 2:\n",
    "    participants_to_drop = [2, 7, 28]\n",
    "elif study_number == 3:\n",
    "    participants_to_drop = ['zfbr1xmr', 'ewa5a6u1', 'oah1o7vp', 'lc8zqd2x', 'i2dl9e3g', 'ln7eke9h', '3ippg8nb', 'qzmrvkrj', 'dzlz88d0', 'humixa7l', 'j21b81w9', 'ogw7lvdc', '0fp60qq4', 'n80gbsvq', 'i07caajj', 'isfjzkx5', '9l7yus87', 'wmltviex', 'j21b81w9', 'ogw7lvdc', '0fp60qq4', 'n80gbsvq', 'i07caajj', 'isfjzkx5', '9l7yus87', 'wmltviex', '1x978q7u', '2k3uo9o4', 'b8xtm1zh', 'f0akmxef', 'gt3prp03', 'h6qpfwbn', 'ls9k0t3b', 'nu06la2p', 'orjkqq2x', 'zbizxozj', '5rkxbz6t', 'arq89iuv', 'jiu3yo02', 'vjyzdao1', 'wokamkap', '1r2rgkqt', '1jgexvhk', 'u81zondt', 's1v4un3e', 'xvipcks4', 'xbiiwl18', 'smu50mjz', '8dcnhu5e', 'e550q34s', 'mfzonm1o', 'y25hszee', 'p7juo6b2', 'kd1s2st3', '89bnh3gg', 'hqqp11vo', '3yl5creu', '73fy2ybt', '4h9lbkef', 'gh8haajx', 'wxsg8bsv', 'tozvyp0y', 'ag4evd41', 'hbo6llus', 'hejp7uzx', 'qry7e8zc']"
   ]
  },
  {
   "cell_type": "code",
   "execution_count": 11,
   "id": "5875415a",
   "metadata": {},
   "outputs": [],
   "source": [
    "df = df[~df['Subject'].isin(participants_to_drop)].reset_index(inplace=False)"
   ]
  },
  {
   "cell_type": "markdown",
   "id": "28251673",
   "metadata": {},
   "source": [
    "#### split based on median AQ points"
   ]
  },
  {
   "cell_type": "code",
   "execution_count": null,
   "id": "55c8ddff",
   "metadata": {},
   "outputs": [],
   "source": [
    "if study_number == 3:\n",
    "    # load dataframe with the AQ points\n",
    "    AQ_df = pd.read_excel('raw_data/aq_recoded.xlsx')\n",
    "    AQ_df = AQ_df[['Subject', 'AQ_total']]\n",
    "    \n",
    "    # merge with dataframe\n",
    "    df = df.merge(AQ_df, on = 'Subject', how = 'left')\n",
    "    \n",
    "    # split based on the median AQ\n",
    "    AQ_median = df['AQ_total'].median()\n",
    "    df['Group'] = df['AQ_total'].apply(lambda x: 0 if x < AQ_median else 1)"
   ]
  },
  {
   "cell_type": "markdown",
   "id": "27541707",
   "metadata": {},
   "source": [
    "#### drop the practice trials and blocks"
   ]
  },
  {
   "cell_type": "code",
   "execution_count": null,
   "id": "560d899f",
   "metadata": {},
   "outputs": [],
   "source": [
    "if study_number == 1 or study_number == 2:\n",
    "    indexNames = df[df['TrialType'] == 'Prac'].index\n",
    "    df.drop(indexNames, inplace=True)\n",
    "    df = df.reset_index(drop=True)\n",
    "elif study_number == 3:\n",
    "    indexNames = df[df['is_practice'] == 1].index\n",
    "    df.drop(indexNames, inplace=True)\n",
    "    df = df.reset_index(drop=True)"
   ]
  },
  {
   "cell_type": "markdown",
   "id": "720cd492",
   "metadata": {},
   "source": [
    "#### drop the first two trials"
   ]
  },
  {
   "cell_type": "code",
   "execution_count": null,
   "id": "dcc94818",
   "metadata": {},
   "outputs": [],
   "source": [
    "indexNames = df[df['triplet_type'] == 'X'].index\n",
    "df.drop(indexNames, inplace=True)"
   ]
  },
  {
   "cell_type": "markdown",
   "id": "dc745361",
   "metadata": {},
   "source": [
    "#### drop trials that were not first responses to a given stimulus"
   ]
  },
  {
   "cell_type": "code",
   "execution_count": null,
   "id": "957c4adb",
   "metadata": {},
   "outputs": [],
   "source": [
    "if study_number == 3:\n",
    "    indexNames1 = df[df['first_response'] == 0].index\n",
    "    df.drop(indexNames1, inplace=True)\n",
    "    df = df.reset_index(drop=True)"
   ]
  },
  {
   "cell_type": "markdown",
   "id": "155b95f9",
   "metadata": {},
   "source": [
    "#### creating the bins"
   ]
  },
  {
   "cell_type": "code",
   "execution_count": null,
   "id": "16310d3f",
   "metadata": {},
   "outputs": [],
   "source": [
    "if study_number == 1 or study_number == 2:\n",
    "    df.loc[df['trial_number'] <= 21, 'bin'] = 1\n",
    "    df.loc[(df['trial_number'] > 21) & (df['trial_number'] <= 37), 'bin'] = 2\n",
    "    df.loc[(df['trial_number'] > 37) & (df['trial_number'] <= 53), 'bin'] = 3\n",
    "    df.loc[(df['trial_number'] > 53) & (df['trial_number'] <= 69), 'bin'] = 4\n",
    "    df.loc[(df['trial_number'] > 69) & (df['trial_number'] <= 85), 'bin'] = 5  \n",
    "elif study_number == 3:\n",
    "    df.loc[df['trial_number'] <= 16, 'bin'] = 1\n",
    "    df.loc[(df['trial_number'] > 16) & (df['trial_number'] <= 32), 'bin'] = 2\n",
    "    df.loc[(df['trial_number'] > 32) & (df['trial_number'] <= 48), 'bin'] = 3\n",
    "    df.loc[(df['trial_number'] > 48) & (df['trial_number'] <= 64), 'bin'] = 4\n",
    "    df.loc[(df['trial_number'] > 64) & (df['trial_number'] <= 80), 'bin'] = 5"
   ]
  },
  {
   "cell_type": "markdown",
   "id": "9cdef049",
   "metadata": {},
   "source": [
    "#### exclude, trills and repetitions"
   ]
  },
  {
   "cell_type": "code",
   "execution_count": null,
   "id": "fb4bc019",
   "metadata": {},
   "outputs": [],
   "source": [
    "indexNames1 = df[df['triplet_type'] == 'T'].index\n",
    "df.drop(indexNames1, inplace=True)\n",
    "indexNames2 = df[df['triplet_type'] == 'R'].index\n",
    "df.drop(indexNames2, inplace=True)\n",
    "df = df.reset_index(drop=True)"
   ]
  },
  {
   "cell_type": "markdown",
   "id": "f978b2c7",
   "metadata": {},
   "source": [
    "#### define outliers based on boxplot"
   ]
  },
  {
   "cell_type": "code",
   "execution_count": null,
   "id": "775aa358",
   "metadata": {},
   "outputs": [],
   "source": [
    "def get_outliers(data, value):\n",
    "    # define outlier boundaries (for each subject, for each epoch)\n",
    "    data['outlier'] = 0\n",
    "    n_epoch = data['Epoch'].nunique()\n",
    "    n_group = data['Group'].nunique()\n",
    "    \n",
    "    for g in range(n_group):\n",
    "        subjects = data[data['Group'] == g]['Subject'].unique()\n",
    "        n_subject = data[data['Group'] == g]['Subject'].nunique()\n",
    "        \n",
    "        for s in range(n_subject):\n",
    "            q1 = data[data['Group'] == g][data['Subject'] == subjects[s]].groupby('Epoch')[value].quantile(q = 0.25).to_numpy()\n",
    "            q3 = data[data['Group'] == g][data['Subject'] == subjects[s]].groupby('Epoch')[value].quantile(q = 0.75).to_numpy()\n",
    "            iqr = q3 - q1\n",
    "            lower = q1 - 1.5 * iqr\n",
    "            upper = q3 + 1.5 * iqr\n",
    "            \n",
    "            # create a new variale indicating if the trial is an outlier\n",
    "            for i in range(len(data)):\n",
    "                if data['Group'][i] == g:\n",
    "                    if data['Subject'][i] == subjects[s]:\n",
    "                        for e in range(n_epoch):\n",
    "                            if data['Epoch'][i] == e + 1:\n",
    "                                if (data[value][i] < lower[e]) | (data[value][i] > upper[e]):\n",
    "                                    data['outlier'][i] = 1\n",
    "                                else:\n",
    "                                    data['outlier'][i] = 0\n",
    "    return data          "
   ]
  },
  {
   "cell_type": "code",
   "execution_count": null,
   "id": "f62896ee",
   "metadata": {
    "scrolled": false
   },
   "outputs": [],
   "source": [
    "df = get_outliers(df, 'finalRT')"
   ]
  },
  {
   "cell_type": "code",
   "execution_count": null,
   "id": "6b61c829",
   "metadata": {},
   "outputs": [],
   "source": [
    "indexNames0 = df[df['outlier'] == 1].index\n",
    "df.drop(indexNames0, inplace=True)\n",
    "df = df.reset_index(drop=True)"
   ]
  },
  {
   "cell_type": "markdown",
   "id": "584fee00",
   "metadata": {},
   "source": [
    "#### drop incorrect trials"
   ]
  },
  {
   "cell_type": "code",
   "execution_count": null,
   "id": "b009e291",
   "metadata": {},
   "outputs": [],
   "source": [
    "indexNames = df[df['ACC'] == 0].index\n",
    "df.drop(indexNames, inplace=True)\n",
    "df = df.reset_index(drop=True)"
   ]
  },
  {
   "cell_type": "markdown",
   "id": "0e6e3f36",
   "metadata": {},
   "source": [
    "# Calculating offline-online learning in statistical learning"
   ]
  },
  {
   "cell_type": "markdown",
   "id": "6f650fd9",
   "metadata": {},
   "source": [
    "#### Calculate H and L scores by bins"
   ]
  },
  {
   "cell_type": "code",
   "execution_count": null,
   "id": "35580df8",
   "metadata": {},
   "outputs": [],
   "source": [
    "SL_RT_wide = df.copy()\n",
    "\n",
    "if study_number == 1 or study_number == 2:\n",
    "    SL_RT_wide= SL_RT_wide.pivot_table(index=['Group','Subject'], columns=['Block','bin','triplet_type'], values='finalRT', aggfunc=np.mean)\n",
    "    SL_RT_wide = SL_RT_wide.rename(columns={1.0: 'block1', 2.0: 'block2', 3.0:'block3', 4.0:'block4', 5.0: 'block5', 6.0: 'block6', 7.0: 'block7', 8.0:'block8', 9.0:'block9', 10.0: 'block10',\n",
    "                                        11.0: 'block11', 12.0: 'block12', 13.0:'block13', 14.0:'block14', 15.0: 'block15', 16.0: 'block16', 17.0: 'block17', 18.0:'block18', 19.0:'block19', 20.0: 'block20'}, level=0)\n",
    "    SL_RT_wide = SL_RT_wide.rename(columns={1.0: 'bin1', 2.0: 'bin2', 3.0:'bin3', 4.0:'bin4', 5.0: 'bin5'}, level=1)\n",
    "\n",
    "    SL_RT_wide.columns = SL_RT_wide.columns.map('_'.join).str.strip('_')\n",
    "elif study_number == 3:\n",
    "    SL_RT_wide= SL_RT_wide.pivot_table(index=['Group','AQ_total', 'Subject'], columns=['Block','bin','triplet_type'], values='finalRT', aggfunc=np.mean)\n",
    "    SL_RT_wide = SL_RT_wide.rename(columns={1.0: 'block1', 2.0: 'block2', 3.0:'block3', 4.0:'block4', 5.0: 'block5', 6.0: 'block6', 7.0: 'block7', 8.0:'block8', 9.0:'block9', 10.0: 'block10',\n",
    "                                            11.0: 'block11', 12.0: 'block12', 13.0:'block13', 14.0:'block14', 15.0: 'block15', 16.0: 'block16', 17.0: 'block17', 18.0:'block18', 19.0:'block19', 20.0: 'block20',\n",
    "                                            21.0: 'block21', 22.0: 'block22', 23.0:'block23', 24.0:'block24', 25.0: 'block25'}, level=0)\n",
    "    SL_RT_wide = SL_RT_wide.rename(columns={1.0: 'bin1', 2.0: 'bin2', 3.0:'bin3', 4.0:'bin4', 5.0: 'bin5'}, level=1)\n",
    "    \n",
    "    SL_RT_wide.columns = SL_RT_wide.columns.map('_'.join).str.strip('_')\n",
    "\n",
    "SL_RT_wide.head()"
   ]
  },
  {
   "cell_type": "markdown",
   "id": "1e496567",
   "metadata": {},
   "source": [
    "#### Calculate offline and online learning scores by bins"
   ]
  },
  {
   "cell_type": "code",
   "execution_count": null,
   "id": "0b15d45c",
   "metadata": {},
   "outputs": [],
   "source": [
    "if study_number == 1 or study_number == 2:\n",
    "    #calculate learning scores for bin 1 and 5\n",
    "    for x in range(1,21):\n",
    "        for y in [1,5]:\n",
    "            SL_RT_wide['block'+str(x)+'_bin'+str(y)+'_SL'] = SL_RT_wide['block'+str(x)+'_bin'+str(y)+'_L'] - SL_RT_wide['block'+str(x)+'_bin'+str(y)+'_H']\n",
    "    \n",
    "    #calculate offline learning scores\n",
    "    for x in range(2,21):\n",
    "        SL_RT_wide['block'+str(x)+'_offline'] = SL_RT_wide['block'+str(x)+'_bin1_SL'] - SL_RT_wide['block'+str(x-1)+'_bin5_SL']\n",
    "    \n",
    "    #calculate online learning scores\n",
    "    for x in range(1,21):\n",
    "        SL_RT_wide['block'+str(x)+'_online'] = SL_RT_wide['block'+str(x)+'_bin5_SL'] - SL_RT_wide['block'+str(x)+'_bin1_SL']\n",
    "\n",
    "elif study_number == 3:\n",
    "    #calculate learning scores for bin 1 and 5\n",
    "    for x in range(1,26):\n",
    "        for y in [1,5]:\n",
    "            SL_RT_wide['block'+str(x)+'_bin'+str(y)+'_SL'] = SL_RT_wide['block'+str(x)+'_bin'+str(y)+'_L'] - SL_RT_wide['block'+str(x)+'_bin'+str(y)+'_H']\n",
    "    \n",
    "    #calculate offline learning scores\n",
    "    for x in range(2,26):\n",
    "        SL_RT_wide['block'+str(x)+'_offline'] = SL_RT_wide['block'+str(x)+'_bin1_SL'] - SL_RT_wide['block'+str(x-1)+'_bin5_SL']\n",
    "    \n",
    "    #calculate online learning scores\n",
    "    for x in range(1,26):\n",
    "        SL_RT_wide['block'+str(x)+'_online'] = SL_RT_wide['block'+str(x)+'_bin5_SL'] - SL_RT_wide['block'+str(x)+'_bin1_SL']\n",
    "    \n",
    "SL_RT_wide.head()"
   ]
  },
  {
   "cell_type": "markdown",
   "id": "f843b6bb",
   "metadata": {},
   "source": [
    "#### Calculate overall offline and online learning scores"
   ]
  },
  {
   "cell_type": "code",
   "execution_count": null,
   "id": "cb5c3b08",
   "metadata": {},
   "outputs": [],
   "source": [
    "if study_number == 1 or study_number == 2:\n",
    "    SL_RT_wide['offline_SL'] = SL_RT_wide[['block2_offline','block3_offline', 'block4_offline','block5_offline', 'block6_offline','block7_offline', 'block8_offline','block9_offline', 'block10_offline',\n",
    "                                           'block11_offline', 'block12_offline','block13_offline', 'block14_offline','block15_offline', 'block16_offline', 'block17_offline','block18_offline', 'block19_offline','block20_offline']].mean(axis=1)\n",
    "                                           \n",
    "    SL_RT_wide['online_SL'] = SL_RT_wide[['block1_online', 'block2_online','block3_online', 'block4_online','block5_online', 'block6_online','block7_online', 'block8_online','block9_online', 'block10_online',\n",
    "                                           'block11_online', 'block12_online','block13_online', 'block14_online','block15_online', 'block16_online', 'block17_online','block18_online', 'block19_online','block20_online']].mean(axis=1)\n",
    "    \n",
    "elif study_number == 3:\n",
    "    SL_RT_wide['offline_SL'] = SL_RT_wide[['block2_offline','block3_offline', 'block4_offline','block5_offline', 'block6_offline','block7_offline', 'block8_offline','block9_offline', 'block10_offline',\n",
    "                                           'block11_offline', 'block12_offline','block13_offline', 'block14_offline','block15_offline', 'block16_offline', 'block17_offline','block18_offline', 'block19_offline','block20_offline',\n",
    "                                           'block21_offline', 'block22_offline','block23_offline', 'block24_offline', 'block25_offline']].mean(axis=1)\n",
    "                                           \n",
    "    SL_RT_wide['online_SL'] = SL_RT_wide[['block1_online', 'block2_online','block3_online', 'block4_online','block5_online', 'block6_online','block7_online', 'block8_online','block9_online', 'block10_online',\n",
    "                                           'block11_online', 'block12_online','block13_online', 'block14_online','block15_online', 'block16_online', 'block17_online','block18_online', 'block19_online','block20_online',\n",
    "                                           'block21_online', 'block22_online','block23_online', 'block24_online','block25_online']].mean(axis=1)\n",
    "    \n",
    "SL_RT_wide.head()"
   ]
  },
  {
   "cell_type": "markdown",
   "id": "246665e1",
   "metadata": {},
   "source": [
    "#### add new columns indicating if they learned offline/online"
   ]
  },
  {
   "cell_type": "code",
   "execution_count": null,
   "id": "ac584ba9",
   "metadata": {},
   "outputs": [],
   "source": [
    "SL_RT_wide['is_learn_offline'] = SL_RT_wide['offline_SL'].apply(lambda x: 1 if x > 0 else 0)\n",
    "SL_RT_wide['is_learn_online'] = SL_RT_wide['online_SL'].apply(lambda x: 1 if x > 0 else 0)\n",
    "SL_RT_wide.head()"
   ]
  },
  {
   "cell_type": "markdown",
   "id": "1d5d93d1",
   "metadata": {},
   "source": [
    "#### Save data in CSV"
   ]
  },
  {
   "cell_type": "code",
   "execution_count": null,
   "id": "0aac4a5e",
   "metadata": {},
   "outputs": [],
   "source": [
    "SL_RT_wide.to_csv('processed_data/study_3/data_study_3_SL_offline_online.csv', index=True)"
   ]
  },
  {
   "cell_type": "markdown",
   "id": "618e5cf8",
   "metadata": {},
   "source": [
    "# Calculating offline-online learning in general skill learning"
   ]
  },
  {
   "cell_type": "markdown",
   "id": "654765ea",
   "metadata": {},
   "source": [
    "#### Calculate general RT scores by bins"
   ]
  },
  {
   "cell_type": "code",
   "execution_count": null,
   "id": "6eda09ee",
   "metadata": {},
   "outputs": [],
   "source": [
    "GS_RT_wide = df.copy()\n",
    "\n",
    "if study_number == 1 or study_number == 2:\n",
    "    GS_RT_wide= GS_RT_wide.pivot_table(index=['Group', 'Subject'], columns=['Block','bin'], values='finalRT', aggfunc=np.mean)\n",
    "    GS_RT_wide = GS_RT_wide.rename(columns={1.0: 'block1', 2.0: 'block2', 3.0:'block3', 4.0:'block4', 5.0: 'block5',6.0: 'block6', 7.0: 'block7', 8.0:'block8', 9.0:'block9', 10.0: 'block10',\n",
    "                                            11.0: 'block11', 12.0: 'block12', 13.0:'block13', 14.0:'block14', 15.0: 'block15', 16.0: 'block16', 17.0: 'block17', 18.0:'block18', 19.0:'block19', 20.0: 'block20'}, level=0)\n",
    "    GS_RT_wide = GS_RT_wide.rename(columns={1.0: 'bin1', 2.0: 'bin2', 3.0:'bin3', 4.0:'bin4', 5.0: 'bin5'}, level=1)\n",
    "    \n",
    "    GS_RT_wide.columns = GS_RT_wide.columns.map('_'.join).str.strip('_')\n",
    "    \n",
    "elif study_number == 3:\n",
    "    GS_RT_wide= GS_RT_wide.pivot_table(index=['Group','AQ_total', 'Subject'], columns=['Block','bin'], values='finalRT', aggfunc=np.mean)\n",
    "    GS_RT_wide = GS_RT_wide.rename(columns={1.0: 'block1', 2.0: 'block2', 3.0:'block3', 4.0:'block4', 5.0: 'block5',6.0: 'block6', 7.0: 'block7', 8.0:'block8', 9.0:'block9', 10.0: 'block10',\n",
    "                                            11.0: 'block11', 12.0: 'block12', 13.0:'block13', 14.0:'block14', 15.0: 'block15', 16.0: 'block16', 17.0: 'block17', 18.0:'block18', 19.0:'block19', 20.0: 'block20',\n",
    "                                            21.0: 'block21', 22.0: 'block22', 23.0:'block23', 24.0:'block24', 25.0: 'block25'}, level=0)\n",
    "    GS_RT_wide = GS_RT_wide.rename(columns={1.0: 'bin1', 2.0: 'bin2', 3.0:'bin3', 4.0:'bin4', 5.0: 'bin5'}, level=1)\n",
    "    \n",
    "    GS_RT_wide.columns = GS_RT_wide.columns.map('_'.join).str.strip('_')\n",
    "    \n",
    "GS_RT_wide.head()"
   ]
  },
  {
   "cell_type": "markdown",
   "id": "5085ca90",
   "metadata": {},
   "source": [
    "#### Calculate offline and online learning scores by bins"
   ]
  },
  {
   "cell_type": "code",
   "execution_count": null,
   "id": "29ee4169",
   "metadata": {},
   "outputs": [],
   "source": [
    "if study_number == 1 or study_number == 2:\n",
    "    #calculate offline learning scores\n",
    "    for x in range(2,21):\n",
    "        GS_RT_wide['block'+str(x)+'_offline'] = GS_RT_wide['block'+str(x)+'_bin1'] - GS_RT_wide['block'+str(x-1)+'_bin5']\n",
    "    \n",
    "    #calculate online learning scores\n",
    "    for x in range(1,21):\n",
    "        GS_RT_wide['block'+str(x)+'_online'] = GS_RT_wide['block'+str(x)+'_bin5'] - GS_RT_wide['block'+str(x)+'_bin1']\n",
    "\n",
    "elif study_number == 3:\n",
    "    #calculate offline learning scores\n",
    "    for x in range(2,26):\n",
    "        GS_RT_wide['block'+str(x)+'_offline'] = GS_RT_wide['block'+str(x)+'_bin1'] - GS_RT_wide['block'+str(x-1)+'_bin5']\n",
    "    \n",
    "    #calculate online learning scores\n",
    "    for x in range(1,26):\n",
    "        GS_RT_wide['block'+str(x)+'_online'] = GS_RT_wide['block'+str(x)+'_bin5'] - GS_RT_wide['block'+str(x)+'_bin1']\n",
    "        \n",
    "GS_RT_wide.head()"
   ]
  },
  {
   "cell_type": "markdown",
   "id": "1f67ba88",
   "metadata": {},
   "source": [
    "#### Calculate overall offline and online learning scores"
   ]
  },
  {
   "cell_type": "code",
   "execution_count": null,
   "id": "1402d888",
   "metadata": {},
   "outputs": [],
   "source": [
    "if study_number == 1 or study_number == 2:\n",
    "    GS_RT_wide['offline_GS'] = GS_RT_wide[['block2_offline','block3_offline', 'block4_offline','block5_offline', 'block6_offline','block7_offline', 'block8_offline','block9_offline', 'block10_offline',\n",
    "                                           'block11_offline', 'block12_offline','block13_offline', 'block14_offline','block15_offline', 'block16_offline', 'block17_offline','block18_offline', 'block19_offline','block20_offline']].mean(axis=1)\n",
    "                                           \n",
    "    GS_RT_wide['online_GS'] = GS_RT_wide[['block1_online', 'block2_online','block3_online', 'block4_online','block5_online', 'block6_online','block7_online', 'block8_online','block9_online', 'block10_online',\n",
    "                                           'block11_online', 'block12_online','block13_online', 'block14_online','block15_online', 'block16_online', 'block17_online','block18_online', 'block19_online','block20_online']].mean(axis=1)\n",
    "elif study_number == 3:\n",
    "    GS_RT_wide['offline_GS'] = GS_RT_wide[['block2_offline','block3_offline', 'block4_offline','block5_offline', 'block6_offline','block7_offline', 'block8_offline','block9_offline', 'block10_offline',\n",
    "                                           'block11_offline', 'block12_offline','block13_offline', 'block14_offline','block15_offline', 'block16_offline', 'block17_offline','block18_offline', 'block19_offline','block20_offline',\n",
    "                                           'block21_offline', 'block22_offline','block23_offline', 'block24_offline', 'block25_offline']].mean(axis=1)\n",
    "                                           \n",
    "    GS_RT_wide['online_GS'] = GS_RT_wide[['block1_online', 'block2_online','block3_online', 'block4_online','block5_online', 'block6_online','block7_online', 'block8_online','block9_online', 'block10_online',\n",
    "                                           'block11_online', 'block12_online','block13_online', 'block14_online','block15_online', 'block16_online', 'block17_online','block18_online', 'block19_online','block20_online',\n",
    "                                           'block21_online', 'block22_online','block23_online', 'block24_online','block25_online']].mean(axis=1)\n",
    "\n",
    "GS_RT_wide.head()"
   ]
  },
  {
   "cell_type": "code",
   "execution_count": null,
   "id": "c7385bb5",
   "metadata": {},
   "outputs": [],
   "source": [
    "GS_RT_wide['is_learn_offline'] = GS_RT_wide['offline_GS'].apply(lambda x: 0 if x > 0 else 1)\n",
    "GS_RT_wide['is_learn_online'] = GS_RT_wide['online_GS'].apply(lambda x: 0 if x > 0 else 1)\n",
    "GS_RT_wide.head()"
   ]
  },
  {
   "cell_type": "markdown",
   "id": "9c146095",
   "metadata": {},
   "source": [
    "#### Save the data to CSV"
   ]
  },
  {
   "cell_type": "code",
   "execution_count": null,
   "id": "4c1547bd",
   "metadata": {},
   "outputs": [],
   "source": [
    "GS_RT_wide.to_csv('processed_data/study_3/data_study_3_GS_offline_online.csv',index=True)"
   ]
  }
 ],
 "metadata": {
  "kernelspec": {
   "display_name": "Python 3 (ipykernel)",
   "language": "python",
   "name": "python3"
  },
  "language_info": {
   "codemirror_mode": {
    "name": "ipython",
    "version": 3
   },
   "file_extension": ".py",
   "mimetype": "text/x-python",
   "name": "python",
   "nbconvert_exporter": "python",
   "pygments_lexer": "ipython3",
   "version": "3.9.13"
  }
 },
 "nbformat": 4,
 "nbformat_minor": 5
}

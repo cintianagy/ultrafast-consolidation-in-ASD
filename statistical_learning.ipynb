{
 "cells": [
  {
   "cell_type": "markdown",
   "id": "aa9fe2e1",
   "metadata": {},
   "source": [
    "# STATISTICAL LEARNING"
   ]
  },
  {
   "cell_type": "markdown",
   "id": "1c955ecf",
   "metadata": {},
   "source": [
    "# import python packages"
   ]
  },
  {
   "cell_type": "code",
   "execution_count": 1,
   "id": "6a13080a",
   "metadata": {},
   "outputs": [],
   "source": [
    "import pandas as pd\n",
    "import numpy as np\n",
    "import seaborn as sns\n",
    "import matplotlib as plt\n",
    "import copy"
   ]
  },
  {
   "cell_type": "markdown",
   "id": "280609de",
   "metadata": {},
   "source": [
    "#### define parameters of the study"
   ]
  },
  {
   "cell_type": "code",
   "execution_count": 36,
   "id": "2ff2975a",
   "metadata": {},
   "outputs": [],
   "source": [
    "study_number = 1 # choose from 1, 2, 3"
   ]
  },
  {
   "cell_type": "markdown",
   "id": "3ef7944f",
   "metadata": {},
   "source": [
    "# read data files"
   ]
  },
  {
   "cell_type": "code",
   "execution_count": 37,
   "id": "65b637aa",
   "metadata": {},
   "outputs": [],
   "source": [
    "df_raw = pd.read_csv('raw_data/raw_study_1.csv')"
   ]
  },
  {
   "cell_type": "markdown",
   "id": "8112e773",
   "metadata": {},
   "source": [
    "# preprocessing"
   ]
  },
  {
   "cell_type": "markdown",
   "id": "733205b4",
   "metadata": {},
   "source": [
    "#### filter unnecessary columns"
   ]
  },
  {
   "cell_type": "code",
   "execution_count": 38,
   "id": "1d3593c6",
   "metadata": {},
   "outputs": [],
   "source": [
    "if study_number == 1 or study_number == 2:\n",
    "    df = df_raw.loc[:, ['Group', 'Subject', 'Block', 'Epoch', 'finalRT', 'ACC', 'triplet_type', 'trial_number']]\n",
    "elif study_number == 3:\n",
    "    df = df_raw.loc[:, ['Subject', 'Block', 'Epoch', 'finalRT', 'ACC', 'triplet_type', 'trial_number', 'is_practice', 'first_response']]"
   ]
  },
  {
   "cell_type": "markdown",
   "id": "c5381ac6",
   "metadata": {},
   "source": [
    "#### drop participants"
   ]
  },
  {
   "cell_type": "code",
   "execution_count": 39,
   "id": "777f8b4e",
   "metadata": {},
   "outputs": [],
   "source": [
    "if study_number == 1:\n",
    "    participants_to_drop = [4, 16, 20, 21, 22, 23, 24, 25, 108]\n",
    "elif study_number == 2:\n",
    "    participants_to_drop = [2, 7, 28]\n",
    "elif study_number == 3:\n",
    "    participants_to_drop = ['zfbr1xmr', 'ewa5a6u1', 'oah1o7vp', 'lc8zqd2x', 'i2dl9e3g', 'ln7eke9h', '3ippg8nb', 'qzmrvkrj', 'dzlz88d0', 'humixa7l', 'j21b81w9', 'ogw7lvdc', '0fp60qq4', 'n80gbsvq', 'i07caajj', 'isfjzkx5', '9l7yus87', 'wmltviex', 'j21b81w9', 'ogw7lvdc', '0fp60qq4', 'n80gbsvq', 'i07caajj', 'isfjzkx5', '9l7yus87', 'wmltviex', '1x978q7u', '2k3uo9o4', 'b8xtm1zh', 'f0akmxef', 'gt3prp03', 'h6qpfwbn', 'ls9k0t3b', 'nu06la2p', 'orjkqq2x', 'zbizxozj', '5rkxbz6t', 'arq89iuv', 'jiu3yo02', 'vjyzdao1', 'wokamkap', '1r2rgkqt', '1jgexvhk', 'u81zondt', 's1v4un3e', 'xvipcks4', 'xbiiwl18', 'smu50mjz', '8dcnhu5e', 'e550q34s', 'mfzonm1o', 'y25hszee', 'p7juo6b2', 'kd1s2st3', '89bnh3gg', 'hqqp11vo', '3yl5creu', '73fy2ybt', '4h9lbkef', 'gh8haajx', 'wxsg8bsv', 'tozvyp0y', 'ag4evd41', 'hbo6llus', 'hejp7uzx', 'qry7e8zc']"
   ]
  },
  {
   "cell_type": "code",
   "execution_count": 40,
   "id": "5875415a",
   "metadata": {},
   "outputs": [],
   "source": [
    "df = df[~df['Subject'].isin(participants_to_drop)].reset_index(inplace=False)"
   ]
  },
  {
   "cell_type": "markdown",
   "id": "28251673",
   "metadata": {},
   "source": [
    "#### split based on median AQ points"
   ]
  },
  {
   "cell_type": "code",
   "execution_count": 41,
   "id": "55c8ddff",
   "metadata": {},
   "outputs": [],
   "source": [
    "if study_number == 3:\n",
    "    # load dataframe with the AQ points\n",
    "    AQ_df = pd.read_excel('raw_data/aq_recoded.xlsx')\n",
    "    AQ_df = AQ_df[['Subject', 'AQ_total']]\n",
    "    \n",
    "    # merge with dataframe\n",
    "    df = df.merge(AQ_df, on = 'Subject', how = 'left')\n",
    "    \n",
    "    # split based on the median AQ\n",
    "    AQ_median = df['AQ_total'].median()\n",
    "    df['Group'] = df['AQ_total'].apply(lambda x: 0 if x < AQ_median else 1)"
   ]
  },
  {
   "cell_type": "code",
   "execution_count": 42,
   "id": "5ba43e61",
   "metadata": {},
   "outputs": [
    {
     "name": "stdout",
     "output_type": "stream",
     "text": [
      "14\n",
      "13\n"
     ]
    }
   ],
   "source": [
    "print(df[df['Group']==0]['Subject'].nunique())\n",
    "print(df[df['Group']==1]['Subject'].nunique())"
   ]
  },
  {
   "cell_type": "markdown",
   "id": "27541707",
   "metadata": {},
   "source": [
    "#### drop the practice blocks"
   ]
  },
  {
   "cell_type": "code",
   "execution_count": 43,
   "id": "560d899f",
   "metadata": {},
   "outputs": [],
   "source": [
    "if study_number == 3:\n",
    "    indexNames = df[df['is_practice'] == 1 ].index\n",
    "    df.drop(indexNames , inplace=True)\n",
    "    df = df.reset_index(drop=True)"
   ]
  },
  {
   "cell_type": "markdown",
   "id": "dc745361",
   "metadata": {},
   "source": [
    "#### drop trials that were not first responses to a given stimulus"
   ]
  },
  {
   "cell_type": "code",
   "execution_count": 44,
   "id": "957c4adb",
   "metadata": {},
   "outputs": [],
   "source": [
    "if study_number == 3:\n",
    "    indexNames1 = df[df['first_response'] == 0].index\n",
    "    df.drop(indexNames1, inplace=True)\n",
    "    df = df.reset_index(drop=True)"
   ]
  },
  {
   "cell_type": "markdown",
   "id": "9cdef049",
   "metadata": {},
   "source": [
    "#### exclude first trials, trills and repetitions"
   ]
  },
  {
   "cell_type": "code",
   "execution_count": 45,
   "id": "fb4bc019",
   "metadata": {},
   "outputs": [],
   "source": [
    "indexNames = df[df['triplet_type'] == 'X'].index\n",
    "df.drop(indexNames, inplace=True)\n",
    "indexNames2 = df[df['triplet_type'] == 'T'].index\n",
    "df.drop(indexNames2, inplace=True)\n",
    "indexNames3 = df[df['triplet_type'] == 'R'].index\n",
    "df.drop(indexNames3, inplace=True)\n",
    "df = df.reset_index(drop=True)"
   ]
  },
  {
   "cell_type": "markdown",
   "id": "f978b2c7",
   "metadata": {},
   "source": [
    "#### define outliers based on boxplot"
   ]
  },
  {
   "cell_type": "code",
   "execution_count": 46,
   "id": "775aa358",
   "metadata": {},
   "outputs": [],
   "source": [
    "def get_outliers(data, value):\n",
    "    # define outlier boundaries (for each subject, for each epoch)\n",
    "    data['outlier'] = 0\n",
    "    n_epoch = data['Epoch'].nunique()\n",
    "    n_group = data['Group'].nunique()\n",
    "    \n",
    "    for g in range(n_group):\n",
    "        subjects = data[data['Group'] == g]['Subject'].unique()\n",
    "        n_subject = data[data['Group'] == g]['Subject'].nunique()\n",
    "        \n",
    "        for s in range(n_subject):\n",
    "            q1 = data[data['Group'] == g][data['Subject'] == subjects[s]].groupby('Epoch')[value].quantile(q = 0.25).to_numpy()\n",
    "            q3 = data[data['Group'] == g][data['Subject'] == subjects[s]].groupby('Epoch')[value].quantile(q = 0.75).to_numpy()\n",
    "            iqr = q3 - q1\n",
    "            lower = q1 - 1.5 * iqr\n",
    "            upper = q3 + 1.5 * iqr\n",
    "            \n",
    "            # create a new variale indicating if the trial is an outlier\n",
    "            for i in range(len(data)):\n",
    "                if data['Group'][i] == g:\n",
    "                    if data['Subject'][i] == subjects[s]:\n",
    "                        for e in range(n_epoch):\n",
    "                            if data['Epoch'][i] == e + 1:\n",
    "                                if (data[value][i] < lower[e]) | (data[value][i] > upper[e]):\n",
    "                                    data['outlier'][i] = 1\n",
    "                                else:\n",
    "                                    data['outlier'][i] = 0\n",
    "    return data          "
   ]
  },
  {
   "cell_type": "code",
   "execution_count": 47,
   "id": "f62896ee",
   "metadata": {},
   "outputs": [
    {
     "name": "stderr",
     "output_type": "stream",
     "text": [
      "C:\\Users\\Cinti\\AppData\\Local\\Temp\\ipykernel_11260\\3475540077.py:12: UserWarning: Boolean Series key will be reindexed to match DataFrame index.\n",
      "  q1 = data[data['Group'] == g][data['Subject'] == subjects[s]].groupby('Epoch')[value].quantile(q = 0.25).to_numpy()\n",
      "C:\\Users\\Cinti\\AppData\\Local\\Temp\\ipykernel_11260\\3475540077.py:13: UserWarning: Boolean Series key will be reindexed to match DataFrame index.\n",
      "  q3 = data[data['Group'] == g][data['Subject'] == subjects[s]].groupby('Epoch')[value].quantile(q = 0.75).to_numpy()\n",
      "C:\\Users\\Cinti\\AppData\\Local\\Temp\\ipykernel_11260\\3475540077.py:27: SettingWithCopyWarning: \n",
      "A value is trying to be set on a copy of a slice from a DataFrame\n",
      "\n",
      "See the caveats in the documentation: https://pandas.pydata.org/pandas-docs/stable/user_guide/indexing.html#returning-a-view-versus-a-copy\n",
      "  data['outlier'][i] = 0\n",
      "C:\\Users\\Cinti\\AppData\\Local\\Temp\\ipykernel_11260\\3475540077.py:25: SettingWithCopyWarning: \n",
      "A value is trying to be set on a copy of a slice from a DataFrame\n",
      "\n",
      "See the caveats in the documentation: https://pandas.pydata.org/pandas-docs/stable/user_guide/indexing.html#returning-a-view-versus-a-copy\n",
      "  data['outlier'][i] = 1\n",
      "C:\\Users\\Cinti\\AppData\\Local\\Temp\\ipykernel_11260\\3475540077.py:12: UserWarning: Boolean Series key will be reindexed to match DataFrame index.\n",
      "  q1 = data[data['Group'] == g][data['Subject'] == subjects[s]].groupby('Epoch')[value].quantile(q = 0.25).to_numpy()\n",
      "C:\\Users\\Cinti\\AppData\\Local\\Temp\\ipykernel_11260\\3475540077.py:13: UserWarning: Boolean Series key will be reindexed to match DataFrame index.\n",
      "  q3 = data[data['Group'] == g][data['Subject'] == subjects[s]].groupby('Epoch')[value].quantile(q = 0.75).to_numpy()\n",
      "C:\\Users\\Cinti\\AppData\\Local\\Temp\\ipykernel_11260\\3475540077.py:27: SettingWithCopyWarning: \n",
      "A value is trying to be set on a copy of a slice from a DataFrame\n",
      "\n",
      "See the caveats in the documentation: https://pandas.pydata.org/pandas-docs/stable/user_guide/indexing.html#returning-a-view-versus-a-copy\n",
      "  data['outlier'][i] = 0\n",
      "C:\\Users\\Cinti\\AppData\\Local\\Temp\\ipykernel_11260\\3475540077.py:25: SettingWithCopyWarning: \n",
      "A value is trying to be set on a copy of a slice from a DataFrame\n",
      "\n",
      "See the caveats in the documentation: https://pandas.pydata.org/pandas-docs/stable/user_guide/indexing.html#returning-a-view-versus-a-copy\n",
      "  data['outlier'][i] = 1\n",
      "C:\\Users\\Cinti\\AppData\\Local\\Temp\\ipykernel_11260\\3475540077.py:12: UserWarning: Boolean Series key will be reindexed to match DataFrame index.\n",
      "  q1 = data[data['Group'] == g][data['Subject'] == subjects[s]].groupby('Epoch')[value].quantile(q = 0.25).to_numpy()\n",
      "C:\\Users\\Cinti\\AppData\\Local\\Temp\\ipykernel_11260\\3475540077.py:13: UserWarning: Boolean Series key will be reindexed to match DataFrame index.\n",
      "  q3 = data[data['Group'] == g][data['Subject'] == subjects[s]].groupby('Epoch')[value].quantile(q = 0.75).to_numpy()\n",
      "C:\\Users\\Cinti\\AppData\\Local\\Temp\\ipykernel_11260\\3475540077.py:27: SettingWithCopyWarning: \n",
      "A value is trying to be set on a copy of a slice from a DataFrame\n",
      "\n",
      "See the caveats in the documentation: https://pandas.pydata.org/pandas-docs/stable/user_guide/indexing.html#returning-a-view-versus-a-copy\n",
      "  data['outlier'][i] = 0\n",
      "C:\\Users\\Cinti\\AppData\\Local\\Temp\\ipykernel_11260\\3475540077.py:25: SettingWithCopyWarning: \n",
      "A value is trying to be set on a copy of a slice from a DataFrame\n",
      "\n",
      "See the caveats in the documentation: https://pandas.pydata.org/pandas-docs/stable/user_guide/indexing.html#returning-a-view-versus-a-copy\n",
      "  data['outlier'][i] = 1\n",
      "C:\\Users\\Cinti\\AppData\\Local\\Temp\\ipykernel_11260\\3475540077.py:12: UserWarning: Boolean Series key will be reindexed to match DataFrame index.\n",
      "  q1 = data[data['Group'] == g][data['Subject'] == subjects[s]].groupby('Epoch')[value].quantile(q = 0.25).to_numpy()\n",
      "C:\\Users\\Cinti\\AppData\\Local\\Temp\\ipykernel_11260\\3475540077.py:13: UserWarning: Boolean Series key will be reindexed to match DataFrame index.\n",
      "  q3 = data[data['Group'] == g][data['Subject'] == subjects[s]].groupby('Epoch')[value].quantile(q = 0.75).to_numpy()\n",
      "C:\\Users\\Cinti\\AppData\\Local\\Temp\\ipykernel_11260\\3475540077.py:25: SettingWithCopyWarning: \n",
      "A value is trying to be set on a copy of a slice from a DataFrame\n",
      "\n",
      "See the caveats in the documentation: https://pandas.pydata.org/pandas-docs/stable/user_guide/indexing.html#returning-a-view-versus-a-copy\n",
      "  data['outlier'][i] = 1\n",
      "C:\\Users\\Cinti\\AppData\\Local\\Temp\\ipykernel_11260\\3475540077.py:27: SettingWithCopyWarning: \n",
      "A value is trying to be set on a copy of a slice from a DataFrame\n",
      "\n",
      "See the caveats in the documentation: https://pandas.pydata.org/pandas-docs/stable/user_guide/indexing.html#returning-a-view-versus-a-copy\n",
      "  data['outlier'][i] = 0\n",
      "C:\\Users\\Cinti\\AppData\\Local\\Temp\\ipykernel_11260\\3475540077.py:12: UserWarning: Boolean Series key will be reindexed to match DataFrame index.\n",
      "  q1 = data[data['Group'] == g][data['Subject'] == subjects[s]].groupby('Epoch')[value].quantile(q = 0.25).to_numpy()\n",
      "C:\\Users\\Cinti\\AppData\\Local\\Temp\\ipykernel_11260\\3475540077.py:13: UserWarning: Boolean Series key will be reindexed to match DataFrame index.\n",
      "  q3 = data[data['Group'] == g][data['Subject'] == subjects[s]].groupby('Epoch')[value].quantile(q = 0.75).to_numpy()\n",
      "C:\\Users\\Cinti\\AppData\\Local\\Temp\\ipykernel_11260\\3475540077.py:27: SettingWithCopyWarning: \n",
      "A value is trying to be set on a copy of a slice from a DataFrame\n",
      "\n",
      "See the caveats in the documentation: https://pandas.pydata.org/pandas-docs/stable/user_guide/indexing.html#returning-a-view-versus-a-copy\n",
      "  data['outlier'][i] = 0\n",
      "C:\\Users\\Cinti\\AppData\\Local\\Temp\\ipykernel_11260\\3475540077.py:25: SettingWithCopyWarning: \n",
      "A value is trying to be set on a copy of a slice from a DataFrame\n",
      "\n",
      "See the caveats in the documentation: https://pandas.pydata.org/pandas-docs/stable/user_guide/indexing.html#returning-a-view-versus-a-copy\n",
      "  data['outlier'][i] = 1\n",
      "C:\\Users\\Cinti\\AppData\\Local\\Temp\\ipykernel_11260\\3475540077.py:12: UserWarning: Boolean Series key will be reindexed to match DataFrame index.\n",
      "  q1 = data[data['Group'] == g][data['Subject'] == subjects[s]].groupby('Epoch')[value].quantile(q = 0.25).to_numpy()\n",
      "C:\\Users\\Cinti\\AppData\\Local\\Temp\\ipykernel_11260\\3475540077.py:13: UserWarning: Boolean Series key will be reindexed to match DataFrame index.\n",
      "  q3 = data[data['Group'] == g][data['Subject'] == subjects[s]].groupby('Epoch')[value].quantile(q = 0.75).to_numpy()\n",
      "C:\\Users\\Cinti\\AppData\\Local\\Temp\\ipykernel_11260\\3475540077.py:27: SettingWithCopyWarning: \n",
      "A value is trying to be set on a copy of a slice from a DataFrame\n",
      "\n",
      "See the caveats in the documentation: https://pandas.pydata.org/pandas-docs/stable/user_guide/indexing.html#returning-a-view-versus-a-copy\n",
      "  data['outlier'][i] = 0\n",
      "C:\\Users\\Cinti\\AppData\\Local\\Temp\\ipykernel_11260\\3475540077.py:25: SettingWithCopyWarning: \n",
      "A value is trying to be set on a copy of a slice from a DataFrame\n",
      "\n",
      "See the caveats in the documentation: https://pandas.pydata.org/pandas-docs/stable/user_guide/indexing.html#returning-a-view-versus-a-copy\n",
      "  data['outlier'][i] = 1\n",
      "C:\\Users\\Cinti\\AppData\\Local\\Temp\\ipykernel_11260\\3475540077.py:12: UserWarning: Boolean Series key will be reindexed to match DataFrame index.\n",
      "  q1 = data[data['Group'] == g][data['Subject'] == subjects[s]].groupby('Epoch')[value].quantile(q = 0.25).to_numpy()\n",
      "C:\\Users\\Cinti\\AppData\\Local\\Temp\\ipykernel_11260\\3475540077.py:13: UserWarning: Boolean Series key will be reindexed to match DataFrame index.\n",
      "  q3 = data[data['Group'] == g][data['Subject'] == subjects[s]].groupby('Epoch')[value].quantile(q = 0.75).to_numpy()\n",
      "C:\\Users\\Cinti\\AppData\\Local\\Temp\\ipykernel_11260\\3475540077.py:27: SettingWithCopyWarning: \n",
      "A value is trying to be set on a copy of a slice from a DataFrame\n",
      "\n",
      "See the caveats in the documentation: https://pandas.pydata.org/pandas-docs/stable/user_guide/indexing.html#returning-a-view-versus-a-copy\n",
      "  data['outlier'][i] = 0\n",
      "C:\\Users\\Cinti\\AppData\\Local\\Temp\\ipykernel_11260\\3475540077.py:25: SettingWithCopyWarning: \n",
      "A value is trying to be set on a copy of a slice from a DataFrame\n",
      "\n",
      "See the caveats in the documentation: https://pandas.pydata.org/pandas-docs/stable/user_guide/indexing.html#returning-a-view-versus-a-copy\n",
      "  data['outlier'][i] = 1\n"
     ]
    },
    {
     "name": "stderr",
     "output_type": "stream",
     "text": [
      "C:\\Users\\Cinti\\AppData\\Local\\Temp\\ipykernel_11260\\3475540077.py:12: UserWarning: Boolean Series key will be reindexed to match DataFrame index.\n",
      "  q1 = data[data['Group'] == g][data['Subject'] == subjects[s]].groupby('Epoch')[value].quantile(q = 0.25).to_numpy()\n",
      "C:\\Users\\Cinti\\AppData\\Local\\Temp\\ipykernel_11260\\3475540077.py:13: UserWarning: Boolean Series key will be reindexed to match DataFrame index.\n",
      "  q3 = data[data['Group'] == g][data['Subject'] == subjects[s]].groupby('Epoch')[value].quantile(q = 0.75).to_numpy()\n",
      "C:\\Users\\Cinti\\AppData\\Local\\Temp\\ipykernel_11260\\3475540077.py:25: SettingWithCopyWarning: \n",
      "A value is trying to be set on a copy of a slice from a DataFrame\n",
      "\n",
      "See the caveats in the documentation: https://pandas.pydata.org/pandas-docs/stable/user_guide/indexing.html#returning-a-view-versus-a-copy\n",
      "  data['outlier'][i] = 1\n",
      "C:\\Users\\Cinti\\AppData\\Local\\Temp\\ipykernel_11260\\3475540077.py:27: SettingWithCopyWarning: \n",
      "A value is trying to be set on a copy of a slice from a DataFrame\n",
      "\n",
      "See the caveats in the documentation: https://pandas.pydata.org/pandas-docs/stable/user_guide/indexing.html#returning-a-view-versus-a-copy\n",
      "  data['outlier'][i] = 0\n",
      "C:\\Users\\Cinti\\AppData\\Local\\Temp\\ipykernel_11260\\3475540077.py:12: UserWarning: Boolean Series key will be reindexed to match DataFrame index.\n",
      "  q1 = data[data['Group'] == g][data['Subject'] == subjects[s]].groupby('Epoch')[value].quantile(q = 0.25).to_numpy()\n",
      "C:\\Users\\Cinti\\AppData\\Local\\Temp\\ipykernel_11260\\3475540077.py:13: UserWarning: Boolean Series key will be reindexed to match DataFrame index.\n",
      "  q3 = data[data['Group'] == g][data['Subject'] == subjects[s]].groupby('Epoch')[value].quantile(q = 0.75).to_numpy()\n",
      "C:\\Users\\Cinti\\AppData\\Local\\Temp\\ipykernel_11260\\3475540077.py:27: SettingWithCopyWarning: \n",
      "A value is trying to be set on a copy of a slice from a DataFrame\n",
      "\n",
      "See the caveats in the documentation: https://pandas.pydata.org/pandas-docs/stable/user_guide/indexing.html#returning-a-view-versus-a-copy\n",
      "  data['outlier'][i] = 0\n",
      "C:\\Users\\Cinti\\AppData\\Local\\Temp\\ipykernel_11260\\3475540077.py:25: SettingWithCopyWarning: \n",
      "A value is trying to be set on a copy of a slice from a DataFrame\n",
      "\n",
      "See the caveats in the documentation: https://pandas.pydata.org/pandas-docs/stable/user_guide/indexing.html#returning-a-view-versus-a-copy\n",
      "  data['outlier'][i] = 1\n",
      "C:\\Users\\Cinti\\AppData\\Local\\Temp\\ipykernel_11260\\3475540077.py:12: UserWarning: Boolean Series key will be reindexed to match DataFrame index.\n",
      "  q1 = data[data['Group'] == g][data['Subject'] == subjects[s]].groupby('Epoch')[value].quantile(q = 0.25).to_numpy()\n",
      "C:\\Users\\Cinti\\AppData\\Local\\Temp\\ipykernel_11260\\3475540077.py:13: UserWarning: Boolean Series key will be reindexed to match DataFrame index.\n",
      "  q3 = data[data['Group'] == g][data['Subject'] == subjects[s]].groupby('Epoch')[value].quantile(q = 0.75).to_numpy()\n",
      "C:\\Users\\Cinti\\AppData\\Local\\Temp\\ipykernel_11260\\3475540077.py:27: SettingWithCopyWarning: \n",
      "A value is trying to be set on a copy of a slice from a DataFrame\n",
      "\n",
      "See the caveats in the documentation: https://pandas.pydata.org/pandas-docs/stable/user_guide/indexing.html#returning-a-view-versus-a-copy\n",
      "  data['outlier'][i] = 0\n",
      "C:\\Users\\Cinti\\AppData\\Local\\Temp\\ipykernel_11260\\3475540077.py:25: SettingWithCopyWarning: \n",
      "A value is trying to be set on a copy of a slice from a DataFrame\n",
      "\n",
      "See the caveats in the documentation: https://pandas.pydata.org/pandas-docs/stable/user_guide/indexing.html#returning-a-view-versus-a-copy\n",
      "  data['outlier'][i] = 1\n",
      "C:\\Users\\Cinti\\AppData\\Local\\Temp\\ipykernel_11260\\3475540077.py:12: UserWarning: Boolean Series key will be reindexed to match DataFrame index.\n",
      "  q1 = data[data['Group'] == g][data['Subject'] == subjects[s]].groupby('Epoch')[value].quantile(q = 0.25).to_numpy()\n",
      "C:\\Users\\Cinti\\AppData\\Local\\Temp\\ipykernel_11260\\3475540077.py:13: UserWarning: Boolean Series key will be reindexed to match DataFrame index.\n",
      "  q3 = data[data['Group'] == g][data['Subject'] == subjects[s]].groupby('Epoch')[value].quantile(q = 0.75).to_numpy()\n",
      "C:\\Users\\Cinti\\AppData\\Local\\Temp\\ipykernel_11260\\3475540077.py:27: SettingWithCopyWarning: \n",
      "A value is trying to be set on a copy of a slice from a DataFrame\n",
      "\n",
      "See the caveats in the documentation: https://pandas.pydata.org/pandas-docs/stable/user_guide/indexing.html#returning-a-view-versus-a-copy\n",
      "  data['outlier'][i] = 0\n",
      "C:\\Users\\Cinti\\AppData\\Local\\Temp\\ipykernel_11260\\3475540077.py:25: SettingWithCopyWarning: \n",
      "A value is trying to be set on a copy of a slice from a DataFrame\n",
      "\n",
      "See the caveats in the documentation: https://pandas.pydata.org/pandas-docs/stable/user_guide/indexing.html#returning-a-view-versus-a-copy\n",
      "  data['outlier'][i] = 1\n",
      "C:\\Users\\Cinti\\AppData\\Local\\Temp\\ipykernel_11260\\3475540077.py:12: UserWarning: Boolean Series key will be reindexed to match DataFrame index.\n",
      "  q1 = data[data['Group'] == g][data['Subject'] == subjects[s]].groupby('Epoch')[value].quantile(q = 0.25).to_numpy()\n",
      "C:\\Users\\Cinti\\AppData\\Local\\Temp\\ipykernel_11260\\3475540077.py:13: UserWarning: Boolean Series key will be reindexed to match DataFrame index.\n",
      "  q3 = data[data['Group'] == g][data['Subject'] == subjects[s]].groupby('Epoch')[value].quantile(q = 0.75).to_numpy()\n",
      "C:\\Users\\Cinti\\AppData\\Local\\Temp\\ipykernel_11260\\3475540077.py:27: SettingWithCopyWarning: \n",
      "A value is trying to be set on a copy of a slice from a DataFrame\n",
      "\n",
      "See the caveats in the documentation: https://pandas.pydata.org/pandas-docs/stable/user_guide/indexing.html#returning-a-view-versus-a-copy\n",
      "  data['outlier'][i] = 0\n",
      "C:\\Users\\Cinti\\AppData\\Local\\Temp\\ipykernel_11260\\3475540077.py:25: SettingWithCopyWarning: \n",
      "A value is trying to be set on a copy of a slice from a DataFrame\n",
      "\n",
      "See the caveats in the documentation: https://pandas.pydata.org/pandas-docs/stable/user_guide/indexing.html#returning-a-view-versus-a-copy\n",
      "  data['outlier'][i] = 1\n",
      "C:\\Users\\Cinti\\AppData\\Local\\Temp\\ipykernel_11260\\3475540077.py:12: UserWarning: Boolean Series key will be reindexed to match DataFrame index.\n",
      "  q1 = data[data['Group'] == g][data['Subject'] == subjects[s]].groupby('Epoch')[value].quantile(q = 0.25).to_numpy()\n",
      "C:\\Users\\Cinti\\AppData\\Local\\Temp\\ipykernel_11260\\3475540077.py:13: UserWarning: Boolean Series key will be reindexed to match DataFrame index.\n",
      "  q3 = data[data['Group'] == g][data['Subject'] == subjects[s]].groupby('Epoch')[value].quantile(q = 0.75).to_numpy()\n",
      "C:\\Users\\Cinti\\AppData\\Local\\Temp\\ipykernel_11260\\3475540077.py:27: SettingWithCopyWarning: \n",
      "A value is trying to be set on a copy of a slice from a DataFrame\n",
      "\n",
      "See the caveats in the documentation: https://pandas.pydata.org/pandas-docs/stable/user_guide/indexing.html#returning-a-view-versus-a-copy\n",
      "  data['outlier'][i] = 0\n",
      "C:\\Users\\Cinti\\AppData\\Local\\Temp\\ipykernel_11260\\3475540077.py:25: SettingWithCopyWarning: \n",
      "A value is trying to be set on a copy of a slice from a DataFrame\n",
      "\n",
      "See the caveats in the documentation: https://pandas.pydata.org/pandas-docs/stable/user_guide/indexing.html#returning-a-view-versus-a-copy\n",
      "  data['outlier'][i] = 1\n",
      "C:\\Users\\Cinti\\AppData\\Local\\Temp\\ipykernel_11260\\3475540077.py:12: UserWarning: Boolean Series key will be reindexed to match DataFrame index.\n",
      "  q1 = data[data['Group'] == g][data['Subject'] == subjects[s]].groupby('Epoch')[value].quantile(q = 0.25).to_numpy()\n",
      "C:\\Users\\Cinti\\AppData\\Local\\Temp\\ipykernel_11260\\3475540077.py:13: UserWarning: Boolean Series key will be reindexed to match DataFrame index.\n",
      "  q3 = data[data['Group'] == g][data['Subject'] == subjects[s]].groupby('Epoch')[value].quantile(q = 0.75).to_numpy()\n",
      "C:\\Users\\Cinti\\AppData\\Local\\Temp\\ipykernel_11260\\3475540077.py:27: SettingWithCopyWarning: \n",
      "A value is trying to be set on a copy of a slice from a DataFrame\n",
      "\n",
      "See the caveats in the documentation: https://pandas.pydata.org/pandas-docs/stable/user_guide/indexing.html#returning-a-view-versus-a-copy\n",
      "  data['outlier'][i] = 0\n",
      "C:\\Users\\Cinti\\AppData\\Local\\Temp\\ipykernel_11260\\3475540077.py:25: SettingWithCopyWarning: \n",
      "A value is trying to be set on a copy of a slice from a DataFrame\n",
      "\n",
      "See the caveats in the documentation: https://pandas.pydata.org/pandas-docs/stable/user_guide/indexing.html#returning-a-view-versus-a-copy\n",
      "  data['outlier'][i] = 1\n"
     ]
    },
    {
     "name": "stderr",
     "output_type": "stream",
     "text": [
      "C:\\Users\\Cinti\\AppData\\Local\\Temp\\ipykernel_11260\\3475540077.py:12: UserWarning: Boolean Series key will be reindexed to match DataFrame index.\n",
      "  q1 = data[data['Group'] == g][data['Subject'] == subjects[s]].groupby('Epoch')[value].quantile(q = 0.25).to_numpy()\n",
      "C:\\Users\\Cinti\\AppData\\Local\\Temp\\ipykernel_11260\\3475540077.py:13: UserWarning: Boolean Series key will be reindexed to match DataFrame index.\n",
      "  q3 = data[data['Group'] == g][data['Subject'] == subjects[s]].groupby('Epoch')[value].quantile(q = 0.75).to_numpy()\n",
      "C:\\Users\\Cinti\\AppData\\Local\\Temp\\ipykernel_11260\\3475540077.py:27: SettingWithCopyWarning: \n",
      "A value is trying to be set on a copy of a slice from a DataFrame\n",
      "\n",
      "See the caveats in the documentation: https://pandas.pydata.org/pandas-docs/stable/user_guide/indexing.html#returning-a-view-versus-a-copy\n",
      "  data['outlier'][i] = 0\n",
      "C:\\Users\\Cinti\\AppData\\Local\\Temp\\ipykernel_11260\\3475540077.py:25: SettingWithCopyWarning: \n",
      "A value is trying to be set on a copy of a slice from a DataFrame\n",
      "\n",
      "See the caveats in the documentation: https://pandas.pydata.org/pandas-docs/stable/user_guide/indexing.html#returning-a-view-versus-a-copy\n",
      "  data['outlier'][i] = 1\n",
      "C:\\Users\\Cinti\\AppData\\Local\\Temp\\ipykernel_11260\\3475540077.py:12: UserWarning: Boolean Series key will be reindexed to match DataFrame index.\n",
      "  q1 = data[data['Group'] == g][data['Subject'] == subjects[s]].groupby('Epoch')[value].quantile(q = 0.25).to_numpy()\n",
      "C:\\Users\\Cinti\\AppData\\Local\\Temp\\ipykernel_11260\\3475540077.py:13: UserWarning: Boolean Series key will be reindexed to match DataFrame index.\n",
      "  q3 = data[data['Group'] == g][data['Subject'] == subjects[s]].groupby('Epoch')[value].quantile(q = 0.75).to_numpy()\n",
      "C:\\Users\\Cinti\\AppData\\Local\\Temp\\ipykernel_11260\\3475540077.py:27: SettingWithCopyWarning: \n",
      "A value is trying to be set on a copy of a slice from a DataFrame\n",
      "\n",
      "See the caveats in the documentation: https://pandas.pydata.org/pandas-docs/stable/user_guide/indexing.html#returning-a-view-versus-a-copy\n",
      "  data['outlier'][i] = 0\n",
      "C:\\Users\\Cinti\\AppData\\Local\\Temp\\ipykernel_11260\\3475540077.py:25: SettingWithCopyWarning: \n",
      "A value is trying to be set on a copy of a slice from a DataFrame\n",
      "\n",
      "See the caveats in the documentation: https://pandas.pydata.org/pandas-docs/stable/user_guide/indexing.html#returning-a-view-versus-a-copy\n",
      "  data['outlier'][i] = 1\n",
      "C:\\Users\\Cinti\\AppData\\Local\\Temp\\ipykernel_11260\\3475540077.py:12: UserWarning: Boolean Series key will be reindexed to match DataFrame index.\n",
      "  q1 = data[data['Group'] == g][data['Subject'] == subjects[s]].groupby('Epoch')[value].quantile(q = 0.25).to_numpy()\n",
      "C:\\Users\\Cinti\\AppData\\Local\\Temp\\ipykernel_11260\\3475540077.py:13: UserWarning: Boolean Series key will be reindexed to match DataFrame index.\n",
      "  q3 = data[data['Group'] == g][data['Subject'] == subjects[s]].groupby('Epoch')[value].quantile(q = 0.75).to_numpy()\n",
      "C:\\Users\\Cinti\\AppData\\Local\\Temp\\ipykernel_11260\\3475540077.py:27: SettingWithCopyWarning: \n",
      "A value is trying to be set on a copy of a slice from a DataFrame\n",
      "\n",
      "See the caveats in the documentation: https://pandas.pydata.org/pandas-docs/stable/user_guide/indexing.html#returning-a-view-versus-a-copy\n",
      "  data['outlier'][i] = 0\n",
      "C:\\Users\\Cinti\\AppData\\Local\\Temp\\ipykernel_11260\\3475540077.py:25: SettingWithCopyWarning: \n",
      "A value is trying to be set on a copy of a slice from a DataFrame\n",
      "\n",
      "See the caveats in the documentation: https://pandas.pydata.org/pandas-docs/stable/user_guide/indexing.html#returning-a-view-versus-a-copy\n",
      "  data['outlier'][i] = 1\n",
      "C:\\Users\\Cinti\\AppData\\Local\\Temp\\ipykernel_11260\\3475540077.py:12: UserWarning: Boolean Series key will be reindexed to match DataFrame index.\n",
      "  q1 = data[data['Group'] == g][data['Subject'] == subjects[s]].groupby('Epoch')[value].quantile(q = 0.25).to_numpy()\n",
      "C:\\Users\\Cinti\\AppData\\Local\\Temp\\ipykernel_11260\\3475540077.py:13: UserWarning: Boolean Series key will be reindexed to match DataFrame index.\n",
      "  q3 = data[data['Group'] == g][data['Subject'] == subjects[s]].groupby('Epoch')[value].quantile(q = 0.75).to_numpy()\n",
      "C:\\Users\\Cinti\\AppData\\Local\\Temp\\ipykernel_11260\\3475540077.py:27: SettingWithCopyWarning: \n",
      "A value is trying to be set on a copy of a slice from a DataFrame\n",
      "\n",
      "See the caveats in the documentation: https://pandas.pydata.org/pandas-docs/stable/user_guide/indexing.html#returning-a-view-versus-a-copy\n",
      "  data['outlier'][i] = 0\n",
      "C:\\Users\\Cinti\\AppData\\Local\\Temp\\ipykernel_11260\\3475540077.py:25: SettingWithCopyWarning: \n",
      "A value is trying to be set on a copy of a slice from a DataFrame\n",
      "\n",
      "See the caveats in the documentation: https://pandas.pydata.org/pandas-docs/stable/user_guide/indexing.html#returning-a-view-versus-a-copy\n",
      "  data['outlier'][i] = 1\n",
      "C:\\Users\\Cinti\\AppData\\Local\\Temp\\ipykernel_11260\\3475540077.py:12: UserWarning: Boolean Series key will be reindexed to match DataFrame index.\n",
      "  q1 = data[data['Group'] == g][data['Subject'] == subjects[s]].groupby('Epoch')[value].quantile(q = 0.25).to_numpy()\n",
      "C:\\Users\\Cinti\\AppData\\Local\\Temp\\ipykernel_11260\\3475540077.py:13: UserWarning: Boolean Series key will be reindexed to match DataFrame index.\n",
      "  q3 = data[data['Group'] == g][data['Subject'] == subjects[s]].groupby('Epoch')[value].quantile(q = 0.75).to_numpy()\n",
      "C:\\Users\\Cinti\\AppData\\Local\\Temp\\ipykernel_11260\\3475540077.py:27: SettingWithCopyWarning: \n",
      "A value is trying to be set on a copy of a slice from a DataFrame\n",
      "\n",
      "See the caveats in the documentation: https://pandas.pydata.org/pandas-docs/stable/user_guide/indexing.html#returning-a-view-versus-a-copy\n",
      "  data['outlier'][i] = 0\n",
      "C:\\Users\\Cinti\\AppData\\Local\\Temp\\ipykernel_11260\\3475540077.py:25: SettingWithCopyWarning: \n",
      "A value is trying to be set on a copy of a slice from a DataFrame\n",
      "\n",
      "See the caveats in the documentation: https://pandas.pydata.org/pandas-docs/stable/user_guide/indexing.html#returning-a-view-versus-a-copy\n",
      "  data['outlier'][i] = 1\n",
      "C:\\Users\\Cinti\\AppData\\Local\\Temp\\ipykernel_11260\\3475540077.py:12: UserWarning: Boolean Series key will be reindexed to match DataFrame index.\n",
      "  q1 = data[data['Group'] == g][data['Subject'] == subjects[s]].groupby('Epoch')[value].quantile(q = 0.25).to_numpy()\n",
      "C:\\Users\\Cinti\\AppData\\Local\\Temp\\ipykernel_11260\\3475540077.py:13: UserWarning: Boolean Series key will be reindexed to match DataFrame index.\n",
      "  q3 = data[data['Group'] == g][data['Subject'] == subjects[s]].groupby('Epoch')[value].quantile(q = 0.75).to_numpy()\n",
      "C:\\Users\\Cinti\\AppData\\Local\\Temp\\ipykernel_11260\\3475540077.py:27: SettingWithCopyWarning: \n",
      "A value is trying to be set on a copy of a slice from a DataFrame\n",
      "\n",
      "See the caveats in the documentation: https://pandas.pydata.org/pandas-docs/stable/user_guide/indexing.html#returning-a-view-versus-a-copy\n",
      "  data['outlier'][i] = 0\n",
      "C:\\Users\\Cinti\\AppData\\Local\\Temp\\ipykernel_11260\\3475540077.py:25: SettingWithCopyWarning: \n",
      "A value is trying to be set on a copy of a slice from a DataFrame\n",
      "\n",
      "See the caveats in the documentation: https://pandas.pydata.org/pandas-docs/stable/user_guide/indexing.html#returning-a-view-versus-a-copy\n",
      "  data['outlier'][i] = 1\n",
      "C:\\Users\\Cinti\\AppData\\Local\\Temp\\ipykernel_11260\\3475540077.py:12: UserWarning: Boolean Series key will be reindexed to match DataFrame index.\n",
      "  q1 = data[data['Group'] == g][data['Subject'] == subjects[s]].groupby('Epoch')[value].quantile(q = 0.25).to_numpy()\n",
      "C:\\Users\\Cinti\\AppData\\Local\\Temp\\ipykernel_11260\\3475540077.py:13: UserWarning: Boolean Series key will be reindexed to match DataFrame index.\n",
      "  q3 = data[data['Group'] == g][data['Subject'] == subjects[s]].groupby('Epoch')[value].quantile(q = 0.75).to_numpy()\n",
      "C:\\Users\\Cinti\\AppData\\Local\\Temp\\ipykernel_11260\\3475540077.py:27: SettingWithCopyWarning: \n",
      "A value is trying to be set on a copy of a slice from a DataFrame\n",
      "\n",
      "See the caveats in the documentation: https://pandas.pydata.org/pandas-docs/stable/user_guide/indexing.html#returning-a-view-versus-a-copy\n",
      "  data['outlier'][i] = 0\n",
      "C:\\Users\\Cinti\\AppData\\Local\\Temp\\ipykernel_11260\\3475540077.py:25: SettingWithCopyWarning: \n",
      "A value is trying to be set on a copy of a slice from a DataFrame\n",
      "\n",
      "See the caveats in the documentation: https://pandas.pydata.org/pandas-docs/stable/user_guide/indexing.html#returning-a-view-versus-a-copy\n",
      "  data['outlier'][i] = 1\n"
     ]
    },
    {
     "name": "stderr",
     "output_type": "stream",
     "text": [
      "C:\\Users\\Cinti\\AppData\\Local\\Temp\\ipykernel_11260\\3475540077.py:12: UserWarning: Boolean Series key will be reindexed to match DataFrame index.\n",
      "  q1 = data[data['Group'] == g][data['Subject'] == subjects[s]].groupby('Epoch')[value].quantile(q = 0.25).to_numpy()\n",
      "C:\\Users\\Cinti\\AppData\\Local\\Temp\\ipykernel_11260\\3475540077.py:13: UserWarning: Boolean Series key will be reindexed to match DataFrame index.\n",
      "  q3 = data[data['Group'] == g][data['Subject'] == subjects[s]].groupby('Epoch')[value].quantile(q = 0.75).to_numpy()\n",
      "C:\\Users\\Cinti\\AppData\\Local\\Temp\\ipykernel_11260\\3475540077.py:27: SettingWithCopyWarning: \n",
      "A value is trying to be set on a copy of a slice from a DataFrame\n",
      "\n",
      "See the caveats in the documentation: https://pandas.pydata.org/pandas-docs/stable/user_guide/indexing.html#returning-a-view-versus-a-copy\n",
      "  data['outlier'][i] = 0\n",
      "C:\\Users\\Cinti\\AppData\\Local\\Temp\\ipykernel_11260\\3475540077.py:25: SettingWithCopyWarning: \n",
      "A value is trying to be set on a copy of a slice from a DataFrame\n",
      "\n",
      "See the caveats in the documentation: https://pandas.pydata.org/pandas-docs/stable/user_guide/indexing.html#returning-a-view-versus-a-copy\n",
      "  data['outlier'][i] = 1\n",
      "C:\\Users\\Cinti\\AppData\\Local\\Temp\\ipykernel_11260\\3475540077.py:12: UserWarning: Boolean Series key will be reindexed to match DataFrame index.\n",
      "  q1 = data[data['Group'] == g][data['Subject'] == subjects[s]].groupby('Epoch')[value].quantile(q = 0.25).to_numpy()\n",
      "C:\\Users\\Cinti\\AppData\\Local\\Temp\\ipykernel_11260\\3475540077.py:13: UserWarning: Boolean Series key will be reindexed to match DataFrame index.\n",
      "  q3 = data[data['Group'] == g][data['Subject'] == subjects[s]].groupby('Epoch')[value].quantile(q = 0.75).to_numpy()\n",
      "C:\\Users\\Cinti\\AppData\\Local\\Temp\\ipykernel_11260\\3475540077.py:27: SettingWithCopyWarning: \n",
      "A value is trying to be set on a copy of a slice from a DataFrame\n",
      "\n",
      "See the caveats in the documentation: https://pandas.pydata.org/pandas-docs/stable/user_guide/indexing.html#returning-a-view-versus-a-copy\n",
      "  data['outlier'][i] = 0\n",
      "C:\\Users\\Cinti\\AppData\\Local\\Temp\\ipykernel_11260\\3475540077.py:25: SettingWithCopyWarning: \n",
      "A value is trying to be set on a copy of a slice from a DataFrame\n",
      "\n",
      "See the caveats in the documentation: https://pandas.pydata.org/pandas-docs/stable/user_guide/indexing.html#returning-a-view-versus-a-copy\n",
      "  data['outlier'][i] = 1\n",
      "C:\\Users\\Cinti\\AppData\\Local\\Temp\\ipykernel_11260\\3475540077.py:12: UserWarning: Boolean Series key will be reindexed to match DataFrame index.\n",
      "  q1 = data[data['Group'] == g][data['Subject'] == subjects[s]].groupby('Epoch')[value].quantile(q = 0.25).to_numpy()\n",
      "C:\\Users\\Cinti\\AppData\\Local\\Temp\\ipykernel_11260\\3475540077.py:13: UserWarning: Boolean Series key will be reindexed to match DataFrame index.\n",
      "  q3 = data[data['Group'] == g][data['Subject'] == subjects[s]].groupby('Epoch')[value].quantile(q = 0.75).to_numpy()\n",
      "C:\\Users\\Cinti\\AppData\\Local\\Temp\\ipykernel_11260\\3475540077.py:27: SettingWithCopyWarning: \n",
      "A value is trying to be set on a copy of a slice from a DataFrame\n",
      "\n",
      "See the caveats in the documentation: https://pandas.pydata.org/pandas-docs/stable/user_guide/indexing.html#returning-a-view-versus-a-copy\n",
      "  data['outlier'][i] = 0\n",
      "C:\\Users\\Cinti\\AppData\\Local\\Temp\\ipykernel_11260\\3475540077.py:25: SettingWithCopyWarning: \n",
      "A value is trying to be set on a copy of a slice from a DataFrame\n",
      "\n",
      "See the caveats in the documentation: https://pandas.pydata.org/pandas-docs/stable/user_guide/indexing.html#returning-a-view-versus-a-copy\n",
      "  data['outlier'][i] = 1\n",
      "C:\\Users\\Cinti\\AppData\\Local\\Temp\\ipykernel_11260\\3475540077.py:12: UserWarning: Boolean Series key will be reindexed to match DataFrame index.\n",
      "  q1 = data[data['Group'] == g][data['Subject'] == subjects[s]].groupby('Epoch')[value].quantile(q = 0.25).to_numpy()\n",
      "C:\\Users\\Cinti\\AppData\\Local\\Temp\\ipykernel_11260\\3475540077.py:13: UserWarning: Boolean Series key will be reindexed to match DataFrame index.\n",
      "  q3 = data[data['Group'] == g][data['Subject'] == subjects[s]].groupby('Epoch')[value].quantile(q = 0.75).to_numpy()\n",
      "C:\\Users\\Cinti\\AppData\\Local\\Temp\\ipykernel_11260\\3475540077.py:27: SettingWithCopyWarning: \n",
      "A value is trying to be set on a copy of a slice from a DataFrame\n",
      "\n",
      "See the caveats in the documentation: https://pandas.pydata.org/pandas-docs/stable/user_guide/indexing.html#returning-a-view-versus-a-copy\n",
      "  data['outlier'][i] = 0\n",
      "C:\\Users\\Cinti\\AppData\\Local\\Temp\\ipykernel_11260\\3475540077.py:25: SettingWithCopyWarning: \n",
      "A value is trying to be set on a copy of a slice from a DataFrame\n",
      "\n",
      "See the caveats in the documentation: https://pandas.pydata.org/pandas-docs/stable/user_guide/indexing.html#returning-a-view-versus-a-copy\n",
      "  data['outlier'][i] = 1\n",
      "C:\\Users\\Cinti\\AppData\\Local\\Temp\\ipykernel_11260\\3475540077.py:12: UserWarning: Boolean Series key will be reindexed to match DataFrame index.\n",
      "  q1 = data[data['Group'] == g][data['Subject'] == subjects[s]].groupby('Epoch')[value].quantile(q = 0.25).to_numpy()\n",
      "C:\\Users\\Cinti\\AppData\\Local\\Temp\\ipykernel_11260\\3475540077.py:13: UserWarning: Boolean Series key will be reindexed to match DataFrame index.\n",
      "  q3 = data[data['Group'] == g][data['Subject'] == subjects[s]].groupby('Epoch')[value].quantile(q = 0.75).to_numpy()\n",
      "C:\\Users\\Cinti\\AppData\\Local\\Temp\\ipykernel_11260\\3475540077.py:27: SettingWithCopyWarning: \n",
      "A value is trying to be set on a copy of a slice from a DataFrame\n",
      "\n",
      "See the caveats in the documentation: https://pandas.pydata.org/pandas-docs/stable/user_guide/indexing.html#returning-a-view-versus-a-copy\n",
      "  data['outlier'][i] = 0\n",
      "C:\\Users\\Cinti\\AppData\\Local\\Temp\\ipykernel_11260\\3475540077.py:25: SettingWithCopyWarning: \n",
      "A value is trying to be set on a copy of a slice from a DataFrame\n",
      "\n",
      "See the caveats in the documentation: https://pandas.pydata.org/pandas-docs/stable/user_guide/indexing.html#returning-a-view-versus-a-copy\n",
      "  data['outlier'][i] = 1\n",
      "C:\\Users\\Cinti\\AppData\\Local\\Temp\\ipykernel_11260\\3475540077.py:12: UserWarning: Boolean Series key will be reindexed to match DataFrame index.\n",
      "  q1 = data[data['Group'] == g][data['Subject'] == subjects[s]].groupby('Epoch')[value].quantile(q = 0.25).to_numpy()\n",
      "C:\\Users\\Cinti\\AppData\\Local\\Temp\\ipykernel_11260\\3475540077.py:13: UserWarning: Boolean Series key will be reindexed to match DataFrame index.\n",
      "  q3 = data[data['Group'] == g][data['Subject'] == subjects[s]].groupby('Epoch')[value].quantile(q = 0.75).to_numpy()\n",
      "C:\\Users\\Cinti\\AppData\\Local\\Temp\\ipykernel_11260\\3475540077.py:27: SettingWithCopyWarning: \n",
      "A value is trying to be set on a copy of a slice from a DataFrame\n",
      "\n",
      "See the caveats in the documentation: https://pandas.pydata.org/pandas-docs/stable/user_guide/indexing.html#returning-a-view-versus-a-copy\n",
      "  data['outlier'][i] = 0\n",
      "C:\\Users\\Cinti\\AppData\\Local\\Temp\\ipykernel_11260\\3475540077.py:25: SettingWithCopyWarning: \n",
      "A value is trying to be set on a copy of a slice from a DataFrame\n",
      "\n",
      "See the caveats in the documentation: https://pandas.pydata.org/pandas-docs/stable/user_guide/indexing.html#returning-a-view-versus-a-copy\n",
      "  data['outlier'][i] = 1\n"
     ]
    }
   ],
   "source": [
    "df = get_outliers(df, 'finalRT')"
   ]
  },
  {
   "cell_type": "code",
   "execution_count": 48,
   "id": "6b61c829",
   "metadata": {},
   "outputs": [],
   "source": [
    "indexNames0 = df[df['outlier'] == 1].index\n",
    "df.drop(indexNames0, inplace=True)\n",
    "df = df.reset_index(drop=True)"
   ]
  },
  {
   "cell_type": "markdown",
   "id": "584fee00",
   "metadata": {},
   "source": [
    "#### drop incorrect trials"
   ]
  },
  {
   "cell_type": "code",
   "execution_count": 49,
   "id": "b009e291",
   "metadata": {},
   "outputs": [],
   "source": [
    "indexNames = df[df['ACC'] == 0 ].index\n",
    "df.drop(indexNames, inplace=True)\n",
    "df = df.reset_index(drop=True)"
   ]
  },
  {
   "cell_type": "markdown",
   "id": "0e6e3f36",
   "metadata": {},
   "source": [
    "# Calculating statistical learning"
   ]
  },
  {
   "cell_type": "markdown",
   "id": "6f650fd9",
   "metadata": {},
   "source": [
    "#### Calculate H and L scores by epochs"
   ]
  },
  {
   "cell_type": "code",
   "execution_count": null,
   "id": "35580df8",
   "metadata": {},
   "outputs": [],
   "source": [
    "if study_number == 1 or study_number == 2:\n",
    "    SL_RT_wide = df.pivot_table(index=['Group','Subject'], columns=['Epoch','triplet_type'], values='finalRT', aggfunc=np.median)\n",
    "    SL_RT_wide = SL_RT_wide.rename(columns={1.0: 'e1', 2.0: 'e2', 3.0:'e3', 4.0:'e4'}, level=0)\n",
    "    SL_RT_wide.columns = SL_RT_wide.columns.map('_'.join).str.strip('_')\n",
    "    for x in [1,2,3,4]:\n",
    "        SL_RT_wide[\"e\"+str(x)+\"_SL\"] = SL_RT_wide[\"e\"+str(x)+\"_L\"] - SL_RT_wide[\"e\"+str(x)+\"_H\"]\n",
    "elif study_number == 3:\n",
    "    SL_RT_wide = df.pivot_table(index=['Group', 'Subject', 'AQ_total'], columns=['Epoch','triplet_type'], values='finalRT', aggfunc=np.median)\n",
    "    SL_RT_wide = SL_RT_wide.rename(columns={1.0: 'e1', 2.0: 'e2', 3.0:'e3', 4.0:'e4', 5.0: 'e5'}, level=0)\n",
    "    SL_RT_wide.columns = SL_RT_wide.columns.map('_'.join).str.strip('_') \n",
    "    for x in [1,2,3,4,5]:\n",
    "        SL_RT_wide[\"e\"+str(x)+\"_SL\"] = SL_RT_wide[\"e\"+str(x)+\"_L\"] - SL_RT_wide[\"e\"+str(x)+\"_H\"]\n",
    "\n",
    "SL_RT_wide.head()"
   ]
  },
  {
   "cell_type": "markdown",
   "id": "1d5d93d1",
   "metadata": {},
   "source": [
    "#### Save data in CSV"
   ]
  },
  {
   "cell_type": "code",
   "execution_count": null,
   "id": "0aac4a5e",
   "metadata": {},
   "outputs": [],
   "source": [
    "SL_RT_wide.to_csv('processed_data/study_3/data_study_3_statistical_learning.csv',index=True)"
   ]
  },
  {
   "cell_type": "markdown",
   "id": "7d0223bb",
   "metadata": {},
   "source": [
    "# Calculating general skill learning"
   ]
  },
  {
   "cell_type": "markdown",
   "id": "422cba29",
   "metadata": {},
   "source": [
    "#### Calculate median RT by epochs"
   ]
  },
  {
   "cell_type": "code",
   "execution_count": 50,
   "id": "7593a1ca",
   "metadata": {},
   "outputs": [
    {
     "data": {
      "text/html": [
       "<div>\n",
       "<style scoped>\n",
       "    .dataframe tbody tr th:only-of-type {\n",
       "        vertical-align: middle;\n",
       "    }\n",
       "\n",
       "    .dataframe tbody tr th {\n",
       "        vertical-align: top;\n",
       "    }\n",
       "\n",
       "    .dataframe thead th {\n",
       "        text-align: right;\n",
       "    }\n",
       "</style>\n",
       "<table border=\"1\" class=\"dataframe\">\n",
       "  <thead>\n",
       "    <tr style=\"text-align: right;\">\n",
       "      <th></th>\n",
       "      <th>Epoch</th>\n",
       "      <th>e1</th>\n",
       "      <th>e2</th>\n",
       "      <th>e3</th>\n",
       "      <th>e4</th>\n",
       "    </tr>\n",
       "    <tr>\n",
       "      <th>Group</th>\n",
       "      <th>Subject</th>\n",
       "      <th></th>\n",
       "      <th></th>\n",
       "      <th></th>\n",
       "      <th></th>\n",
       "    </tr>\n",
       "  </thead>\n",
       "  <tbody>\n",
       "    <tr>\n",
       "      <th rowspan=\"5\" valign=\"top\">0</th>\n",
       "      <th>5</th>\n",
       "      <td>478.0</td>\n",
       "      <td>456.0</td>\n",
       "      <td>439.0</td>\n",
       "      <td>430.0</td>\n",
       "    </tr>\n",
       "    <tr>\n",
       "      <th>7</th>\n",
       "      <td>434.0</td>\n",
       "      <td>413.0</td>\n",
       "      <td>438.0</td>\n",
       "      <td>467.0</td>\n",
       "    </tr>\n",
       "    <tr>\n",
       "      <th>11</th>\n",
       "      <td>388.5</td>\n",
       "      <td>378.0</td>\n",
       "      <td>384.0</td>\n",
       "      <td>380.0</td>\n",
       "    </tr>\n",
       "    <tr>\n",
       "      <th>12</th>\n",
       "      <td>462.5</td>\n",
       "      <td>449.0</td>\n",
       "      <td>399.0</td>\n",
       "      <td>379.5</td>\n",
       "    </tr>\n",
       "    <tr>\n",
       "      <th>31</th>\n",
       "      <td>470.0</td>\n",
       "      <td>441.5</td>\n",
       "      <td>420.0</td>\n",
       "      <td>398.0</td>\n",
       "    </tr>\n",
       "  </tbody>\n",
       "</table>\n",
       "</div>"
      ],
      "text/plain": [
       "Epoch             e1     e2     e3     e4\n",
       "Group Subject                            \n",
       "0     5        478.0  456.0  439.0  430.0\n",
       "      7        434.0  413.0  438.0  467.0\n",
       "      11       388.5  378.0  384.0  380.0\n",
       "      12       462.5  449.0  399.0  379.5\n",
       "      31       470.0  441.5  420.0  398.0"
      ]
     },
     "execution_count": 50,
     "metadata": {},
     "output_type": "execute_result"
    }
   ],
   "source": [
    "if study_number == 1 or study_number == 2:\n",
    "    GS_RT_wide = df.pivot_table(index=['Group', 'Subject'], columns=['Epoch'], values='finalRT', aggfunc=np.median)\n",
    "    GS_RT_wide = GS_RT_wide.rename(columns={1.0: 'e1', 2.0: 'e2', 3.0:'e3', 4.0:'e4'}, level=0)\n",
    "elif study_number == 3:\n",
    "    GS_RT_wide = df.pivot_table(index=['Group', 'Subject', 'AQ_total'], columns=['Epoch'], values='finalRT', aggfunc=np.median)\n",
    "    GS_RT_wide = GS_RT_wide.rename(columns={1.0: 'e1', 2.0: 'e2', 3.0:'e3', 4.0:'e4', 5.0: 'e5'}, level=0)\n",
    "    \n",
    "GS_RT_wide.head()"
   ]
  },
  {
   "cell_type": "markdown",
   "id": "3c359da6",
   "metadata": {},
   "source": [
    "#### Save data in CSV"
   ]
  },
  {
   "cell_type": "code",
   "execution_count": 51,
   "id": "e3dffbb2",
   "metadata": {},
   "outputs": [],
   "source": [
    "GS_RT_wide.to_csv('processed_data/study_1/data_study_1_general_skill_learning.csv',index=True)"
   ]
  },
  {
   "cell_type": "code",
   "execution_count": null,
   "id": "5cc4e929",
   "metadata": {},
   "outputs": [],
   "source": []
  }
 ],
 "metadata": {
  "kernelspec": {
   "display_name": "Python 3 (ipykernel)",
   "language": "python",
   "name": "python3"
  },
  "language_info": {
   "codemirror_mode": {
    "name": "ipython",
    "version": 3
   },
   "file_extension": ".py",
   "mimetype": "text/x-python",
   "name": "python",
   "nbconvert_exporter": "python",
   "pygments_lexer": "ipython3",
   "version": "3.9.13"
  }
 },
 "nbformat": 4,
 "nbformat_minor": 5
}
